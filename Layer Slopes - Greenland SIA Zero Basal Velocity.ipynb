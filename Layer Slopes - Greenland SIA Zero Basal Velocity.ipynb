{
 "cells": [
  {
   "cell_type": "markdown",
   "metadata": {},
   "source": [
    "\n",
    "**This notebook produces the maximum layer slope figure based on a simplified SIA model.**\n",
    "\n",
    "The change with depth of the vertical velocity may be written as (in a flow-aligned 2D coordinate system):\n",
    "\n",
    "$\\frac{\\partial w}{\\partial z} = \\frac{\\partial^2 l}{\\partial t \\partial z} + \\frac{\\partial u_f}{\\partial z} \\tan \\alpha + u_f \\sec^2(\\alpha) \\frac{\\partial \\alpha}{\\partial z}$\n",
    "\n",
    "Assuming the layers to be flat ($\\alpha \\approx 0$) is convenient because it eliminates both dependencies on $u_f$, the horizontal velocity in the along-flow direction.\n",
    "\n",
    "This notebook explores the impact of the 2nd term: $\\frac{\\partial u_f}{\\partial z} \\tan \\alpha$\n",
    "\n",
    "In order to do this, we make some rough assumptions to provide a plausible upper end prediction of how large this term could be.\n",
    "\n",
    "We assume:\n",
    "* The ice velocity can be modelled by the shallow ice approximation (SIA) with some known value of n (n=3 in this example)\n",
    "* The basal velocity is zero (unrealistic in fast flowing areas, but designed to provide an upper end prediction)\n",
    "* We neglect local derivatives of flow speed and ice thickness: $\\frac{\\partial u_f}{\\partial x}=\\frac{\\partial u_f}{\\partial y}=\\frac{\\partial H}{\\partial x}=\\frac{\\partial H}{\\partial y}=0$\n",
    "\n",
    "We use surface velocity and ice thickness measurements as inputs."
   ]
  },
  {
   "cell_type": "code",
   "execution_count": null,
   "metadata": {},
   "outputs": [],
   "source": [
    "%load_ext autoreload\n",
    "%autoreload 2"
   ]
  },
  {
   "cell_type": "code",
   "execution_count": null,
   "metadata": {},
   "outputs": [],
   "source": [
    "import xarray as xr\n",
    "import numpy as np\n",
    "import dask\n",
    "\n",
    "import hvplot.xarray\n",
    "import geoviews as gv\n",
    "\n",
    "import cartopy.crs as ccrs\n",
    "\n",
    "import matplotlib.pyplot as plt\n",
    "import cartopy.feature as cfeature\n",
    "\n",
    "import scipy.ndimage"
   ]
  },
  {
   "cell_type": "code",
   "execution_count": null,
   "metadata": {},
   "outputs": [],
   "source": [
    "# Load surface velocity and ice thickness datasets\n",
    "# Re-interpolate all of them to a common grid spacing ()\n",
    "\n",
    "with dask.config.set(**{'array.slicing.split_large_chunks': False}):\n",
    "    surface_velocity = xr.open_dataset('greenland_stability_analysis/data/GRE_G0120_0000.nc', chunks={'x': 'auto', 'y': 'auto'}).coarsen(x=25, y=25, boundary='trim').mean()\n",
    "\n",
    "grid_spacing_m = np.abs(np.median(np.diff(surface_velocity['x'])))\n",
    "assert(np.abs(np.max(np.diff(surface_velocity['x']))) == grid_spacing_m)\n",
    "assert(np.abs(np.min(np.diff(surface_velocity['x']))) == grid_spacing_m)\n",
    "assert(np.abs(np.max(np.diff(surface_velocity['y']))) == grid_spacing_m)\n",
    "assert(np.abs(np.min(np.diff(surface_velocity['y']))) == grid_spacing_m)\n",
    "\n",
    "bedmachine = xr.open_dataset('greenland_stability_analysis/data/BedMachineGreenland-v5.nc')\n",
    "H_inpt = bedmachine['thickness'].interp(x=surface_velocity['x'], y=surface_velocity['y'])\n",
    "\n",
    "print(f\"Grid spacing is {grid_spacing_m/1e3} km\")"
   ]
  },
  {
   "cell_type": "code",
   "execution_count": null,
   "metadata": {
    "tags": []
   },
   "outputs": [],
   "source": [
    "# Quick helper for plotting on a map with a useful projection (EPSG:3413)\n",
    "\n",
    "crs_3413 = ccrs.Stereographic(central_latitude=90, central_longitude=-45, true_scale_latitude=70)\n",
    "# In theory should work but doens't: crs_3413 = ccrs.epsg(3413)\n",
    "\n",
    "def plot_on_map(da, **kwargs):\n",
    "    if 'cmap' not in kwargs:\n",
    "        if da.min() >= 0:\n",
    "            kwargs['cmap'] = 'OrRd'\n",
    "        else:\n",
    "            kwargs['cmap'] = 'RdBu_r'\n",
    "            if 'clim' not in kwargs:\n",
    "                abs_max = float((np.abs(da)).max())\n",
    "                kwargs['clim'] = (-abs_max, abs_max)\n",
    "\n",
    "    plot = da.hvplot.quadmesh(x='x', y='y', aspect='equal', crs=crs_3413, **kwargs)\n",
    "    plot = plot * gv.feature.coastline(projection=crs_3413)\n",
    "    return plot"
   ]
  },
  {
   "cell_type": "code",
   "execution_count": null,
   "metadata": {},
   "outputs": [],
   "source": [
    "# Smoothing the inputs helps to weird situations like rapidly changing converging and diverging surface flow that causes negative dw/dz values\n",
    "\n",
    "smoothing_kernel_std = 5000 # m\n",
    "\n",
    "us_filt = xr.apply_ufunc(scipy.ndimage.gaussian_filter, surface_velocity['vx'], kwargs={'sigma': smoothing_kernel_std / grid_spacing_m, 'truncate': 4, 'mode': 'nearest'}, dask='allowed')\n",
    "vs_filt = xr.apply_ufunc(scipy.ndimage.gaussian_filter, surface_velocity['vy'], kwargs={'sigma': smoothing_kernel_std / grid_spacing_m, 'truncate': 4, 'mode': 'nearest'}, dask='allowed')\n",
    "H_filt = xr.apply_ufunc(scipy.ndimage.gaussian_filter, H_inpt, kwargs={'sigma': smoothing_kernel_std / grid_spacing_m, 'truncate': 4, 'mode': 'nearest'}, dask='allowed')\n",
    "\n",
    "us = us_filt #surface_velocity['vx']\n",
    "vs = vs_filt #surface_velocity['vy']\n",
    "H = H_filt #H_inpt\n",
    "# Filter out very thin ice -- anything less than 100 m isn't worth considering here\n",
    "H.values[H.values < 100] = np.nan"
   ]
  },
  {
   "cell_type": "code",
   "execution_count": null,
   "metadata": {},
   "outputs": [],
   "source": [
    "plot_on_map(H, frame_height=600, clim=(0, 4000), title=\"Ice thickness\", clabel=\"Ice Thickness [m]\")"
   ]
  },
  {
   "cell_type": "code",
   "execution_count": null,
   "metadata": {},
   "outputs": [],
   "source": [
    "plot_on_map(us, frame_height=600, title=\"u (x velocity)\", clabel=\"u [m/yr]\", clim=(-50, 50))"
   ]
  },
  {
   "cell_type": "code",
   "execution_count": null,
   "metadata": {},
   "outputs": [],
   "source": [
    "plot_on_map(vs, frame_height=600, title=\"v (y velocity)\", clabel=\"v [m/yr]\", clim=(-50, 50))"
   ]
  },
  {
   "cell_type": "markdown",
   "metadata": {},
   "source": [
    "We assume an SIA model with constant temperature and zero basal sliding. Under this model:\n",
    "\n",
    "$ \\vec{v}(z) = \\vec{v}(s) \\left( 1 - \\left( \\frac{s-z}{H} \\right)^{n+1} \\right) $\n",
    "\n",
    "In each direction (x and y), we can find the spatial derivatives:\n",
    "\n",
    "$ \\frac{\\partial u(z)}{\\partial x} = \\frac{\\partial u(s)}{\\partial x} \\left( 1 - \\left( \\frac{s-z}{H} \\right)^{n+1} \\right) -\n",
    "    u(s) \\left((n+1)\\left(\\frac{s-z}{H}\\right)^n\n",
    "    \\left( \\frac{1}{H} \\frac{\\partial s}{\\partial x} - \n",
    "    \\frac{s-z}{H^2} \\frac{\\partial H}{\\partial x}\\right) \\right) $\n",
    "\n",
    "Neglecting local changes in ice thickness and the bed, this simplifies to:\n",
    "\n",
    "$\n",
    "    \\frac{\\partial u(z)}{\\partial x} \\approx\n",
    "    \\frac{\\partial u(s)}{\\partial x} \\left( 1 - \\left( \\frac{s-z}{H} \\right)^{n+1} \\right) = \\frac{\\partial u(s)}{\\partial x} \\left( 1 - \\xi^{n+1} \\right)\n",
    "$\n",
    "\n",
    "Where $\\xi = \\frac{s-z}{H}$.\n",
    "\n",
    "Using incompressibility, we can find the vertical strain rate:\n",
    "\n",
    "$\n",
    "\\frac{\\partial w}{\\partial z}\n",
    "= -\\left(1 - \\xi^{n+1}\\right) \\nabla_H \\cdot \\vec{v} \\left(s\\right) $\n",
    "$= - \\left(1 - \\xi^{n+1} \\right) \\left( \\frac{\\partial u_s}{\\partial x} + \\frac{\\partial v_s}{\\partial y} \\right) $"
   ]
  },
  {
   "cell_type": "code",
   "execution_count": null,
   "metadata": {},
   "outputs": [],
   "source": [
    "xi = 0.5 # (s-z)/H (fractional ice thickness)\n",
    "n = 3 # Glen's flow law exponent\n",
    "\n",
    "# Relevant derivatives\n",
    "\n",
    "dus_dx = us.differentiate('x')\n",
    "dvs_dy = vs.differentiate('y')\n",
    "\n",
    "surface_velocity_divergence = dus_dx + dvs_dy\n",
    "dw_dz = 1 * (1 - xi**(n+1)) * surface_velocity_divergence # TODO: investigate sign\n",
    "\n",
    "du_dz = us * ((n+1)/H) * xi**n\n",
    "dv_dz = vs * ((n+1)/H) * xi**n\n",
    "dhorizontal_velocity_dz = np.sqrt(du_dz**2 + dv_dz**2)"
   ]
  },
  {
   "cell_type": "code",
   "execution_count": null,
   "metadata": {},
   "outputs": [],
   "source": [
    "plot_on_map(surface_velocity_divergence, frame_height=600, title=\"dus/dx + dvs/dx\", clabel=\"divergence\", clim=(-1e-3, 1e-3))"
   ]
  },
  {
   "cell_type": "code",
   "execution_count": null,
   "metadata": {},
   "outputs": [],
   "source": [
    "plot_on_map(dw_dz, frame_height=600, title=\"dw/dz\", clabel=\"dw/dz\", clim=(-1e-3, 1e-3))"
   ]
  },
  {
   "cell_type": "code",
   "execution_count": null,
   "metadata": {},
   "outputs": [],
   "source": [
    "dw_dz.plot.hist(bins=500, figsize=(10, 5), range=(-1e-2, 1e-2))"
   ]
  },
  {
   "cell_type": "code",
   "execution_count": null,
   "metadata": {},
   "outputs": [],
   "source": [
    "dw_dz_values = dw_dz.to_numpy().flatten()\n",
    "dw_dz_values = dw_dz_values[~np.isnan(dw_dz_values)]\n",
    "np.mean(dw_dz_values >= 0), np.mean(dw_dz_values < 0)"
   ]
  },
  {
   "cell_type": "code",
   "execution_count": null,
   "metadata": {},
   "outputs": [],
   "source": [
    "max_error_pct = 0.1\n",
    "# Constrain dw/dz to be positive -- doesn't make sense for it to be negative under this simple SIA model\n",
    "max_layer_slope = np.abs(np.arctan(max_error_pct * np.maximum(dw_dz, 0) / dhorizontal_velocity_dz))"
   ]
  },
  {
   "cell_type": "code",
   "execution_count": null,
   "metadata": {},
   "outputs": [],
   "source": [
    "p = plot_on_map(max_layer_slope * (180/np.pi), cmap='cividis', clim=(0, 2), clabel=\"Slope [degrees]\", frame_height=800, title=f\"Maximum layer slope (deg) for 10% error in vertical strain\\nrate when neglecting layer slope\\nat {xi*100}% fractional ice thickness\")\n",
    "\n",
    "p"
   ]
  },
  {
   "cell_type": "code",
   "execution_count": null,
   "metadata": {},
   "outputs": [],
   "source": [
    "# Save p to a PNG\n",
    "import holoviews as hv\n",
    "hv.extension('bokeh')\n",
    "hv.save(p, 'max_layer_slope.png', fmt='png')"
   ]
  },
  {
   "cell_type": "code",
   "execution_count": null,
   "metadata": {},
   "outputs": [],
   "source": []
  }
 ],
 "metadata": {
  "kernelspec": {
   "display_name": "englacial_velocity_1",
   "language": "python",
   "name": "python3"
  },
  "language_info": {
   "codemirror_mode": {
    "name": "ipython",
    "version": 3
   },
   "file_extension": ".py",
   "mimetype": "text/x-python",
   "name": "python",
   "nbconvert_exporter": "python",
   "pygments_lexer": "ipython3",
   "version": "3.12.4"
  }
 },
 "nbformat": 4,
 "nbformat_minor": 4
}
