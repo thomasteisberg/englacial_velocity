{
 "cells": [
  {
   "cell_type": "markdown",
   "metadata": {},
   "source": [
    "**This notebook produces the synthetic rheology comparison figure.**\n",
    "\n",
    "It relies on results from `Englacial Velocity 2D.ipynb`. This notebook just does the plotting."
   ]
  },
  {
   "cell_type": "code",
   "execution_count": null,
   "metadata": {},
   "outputs": [],
   "source": [
    "import numpy as np\n",
    "import matplotlib.pyplot as plt\n",
    "import matplotlib\n",
    "import scipy\n",
    "import sympy\n",
    "from sympy import *\n",
    "import pickle"
   ]
  },
  {
   "cell_type": "code",
   "execution_count": null,
   "metadata": {},
   "outputs": [],
   "source": [
    "files = [\n",
    "    'outputs_stored/20240627_172511_n4.0.pickle',\n",
    "    'outputs_stored/20240627_172129_n3.0.pickle',\n",
    "    'outputs_stored/20240627_171904_n2.0.pickle'\n",
    "]\n",
    "\n",
    "results = []\n",
    "for file in files:\n",
    "    with open(file, 'rb') as f:\n",
    "        results.append(pickle.load(f))"
   ]
  },
  {
   "cell_type": "markdown",
   "metadata": {},
   "source": [
    "### Velocity vs depth profile at end"
   ]
  },
  {
   "cell_type": "code",
   "execution_count": null,
   "metadata": {},
   "outputs": [],
   "source": [
    "# Plot each layer solution at x=100e3 as a function of depth\n",
    "fig, ax = plt.subplots(figsize=(4, 8))\n",
    "\n",
    "plot_pos_x = 90e3\n",
    "\n",
    "result_colors = ['tab:blue', 'tab:orange', 'tab:purple', 'tab:olive']\n",
    "result_markers = ['X', 's', 'P', 'o']\n",
    "\n",
    "for result_idx, res in enumerate(results):\n",
    "    u_at_plot_pos = sympy.lambdify(res['z'], res['u'].subs(res['x'], plot_pos_x), modules='numpy')(res['zs'])\n",
    "\n",
    "    for layer_idx in res['layer_solutions'].keys():\n",
    "        if (layer_idx == 1):\n",
    "            lbl = f'ODE Solutions for n = {res[\"n\"]}'\n",
    "        else:\n",
    "            lbl = None\n",
    "        ax.scatter([res['layer_solutions'][layer_idx].sol(plot_pos_x)], [res['layers_t0'][layer_idx](plot_pos_x)], label=lbl, c=result_colors[result_idx], marker=result_markers[result_idx])\n",
    "\n",
    "    ax.plot(u_at_plot_pos*scipy.constants.year, res['zs'], linestyle='--', linewidth=1, c=result_colors[result_idx], label=f'True n = {res[\"n\"]}')\n",
    "\n",
    "ax.set_xlabel('Horizontal velocity [m/yr]')\n",
    "ax.set_ylabel('z [m]')\n",
    "ax.legend()\n",
    "ax.grid()\n",
    "plt.show()"
   ]
  },
  {
   "cell_type": "markdown",
   "metadata": {},
   "source": [
    "### Stress vs strain"
   ]
  },
  {
   "cell_type": "code",
   "execution_count": null,
   "metadata": {},
   "outputs": [],
   "source": [
    "fig, ax = plt.subplots(figsize=(6, 6))\n",
    "\n",
    "for result_idx, res in enumerate(results):\n",
    "    ax.scatter(np.log10(res['eff_stress']), np.log10(res['du_dz_central_diff']), label=f'n = {res[\"n\"]}', s=2, c=result_colors[result_idx])\n",
    "\n",
    "ax.set_aspect(0.5)\n",
    "ax.set_xlabel('log(effective stress)')\n",
    "ax.set_ylabel('log(strain rate)')\n",
    "ax.legend()\n",
    "# Set the grid spacing to 1 on both axes\n",
    "ax.set_xticks(np.arange(2, 5, 1))\n",
    "ax.set_yticks(np.arange(-10, -2, 1))\n",
    "ax.set_ylim(-10, -2)\n",
    "ax.set_xlim(2, 5)\n",
    "ax.grid()"
   ]
  },
  {
   "cell_type": "markdown",
   "metadata": {},
   "source": [
    "### Combined figure"
   ]
  },
  {
   "cell_type": "code",
   "execution_count": null,
   "metadata": {},
   "outputs": [],
   "source": [
    "fig = plt.figure(constrained_layout=True, facecolor='white', figsize=(12,5))\n",
    "gs = fig.add_gridspec(len(results), 3, width_ratios=[0.4, 0.3, 0.3], wspace=0.1)\n",
    "\n",
    "result_colors = ['tab:blue', 'tab:orange', 'tab:purple', 'tab:olive']\n",
    "result_markers = ['X', 's', 'P', 'o']\n",
    "\n",
    "# Horizontal velocity profiles\n",
    "vel_plot_labels = ['(a)', '(b)', '(c)']\n",
    "vel_profile_axes = []\n",
    "norm = matplotlib.colors.LogNorm(vmin=0.5, vmax=170)\n",
    "last_result_ax = None # Track the bottom axis for adding the layer legend\n",
    "for idx, r in enumerate(results):\n",
    "    X, Z = np.meshgrid(r['xs'], r['zs'])\n",
    "    U = sympy.lambdify((r['x'], r['z']), r['u'], modules='numpy')(X, Z)\n",
    "    if idx == 0:\n",
    "        ax = fig.add_subplot(gs[idx, 0])\n",
    "    else:\n",
    "        ax = fig.add_subplot(gs[idx, 0], sharex=vel_profile_axes[0], sharey=vel_profile_axes[0])\n",
    "    vel_profile_axes.append(ax)\n",
    "\n",
    "    surface = sympy.lambdify(r['x'], r['surface'], modules='numpy')\n",
    "    below_surface = (Z < surface(X))\n",
    "    below_surface_mask = np.ones_like(X, dtype=float)\n",
    "    below_surface_mask[~below_surface] = np.nan\n",
    "    pcm = ax.pcolormesh(X/1e3, Z, scipy.constants.year * U * below_surface_mask, cmap='viridis', alpha=0.8, norm=norm)\n",
    "\n",
    "    # Add layers\n",
    "    for layer in r['layers_t0']:\n",
    "        ax.plot(r['xs']/1e3, layer(r['xs']), linewidth=0.5, linestyle='--', color='k')\n",
    "\n",
    "    ax.set_title(f'n = {r[\"n\"]}')\n",
    "    ax.set_title(vel_plot_labels[idx], loc='left', fontweight='bold', color=result_colors[idx])\n",
    "    ax.set_ylabel('z [m]')\n",
    "\n",
    "    ax.set_xlim(0, r['domain_x']/1e3)\n",
    "    ax.set_ylim(0, surface(0))\n",
    "    \n",
    "    last_result_ax = ax # Track the bottom axis for adding the layer legend\n",
    "\n",
    "fig.colorbar(pcm, ax=vel_profile_axes, label='Velocity magnitude [m/yr]')\n",
    "vel_profile_axes[-1].set_xlabel('x [km]')\n",
    "\n",
    "# Horizontal velocity at 90 km\n",
    "ax = fig.add_subplot(gs[:, 1])\n",
    "plot_pos_x = 90e3\n",
    "\n",
    "for result_idx, res in enumerate(results):\n",
    "    u_at_plot_pos = sympy.lambdify(res['z'], res['u'].subs(res['x'], plot_pos_x), modules='numpy')(res['zs'])\n",
    "\n",
    "    for layer_idx in res['layer_solutions'].keys():\n",
    "        if (layer_idx == 1):\n",
    "            lbl = f'ODE Solutions for n = {res[\"n\"]}'\n",
    "        else:\n",
    "            lbl = None\n",
    "        ax.scatter([res['layer_solutions'][layer_idx].sol(plot_pos_x)], [res['layers_t0'][layer_idx](plot_pos_x)], label=lbl, c=result_colors[result_idx], marker=result_markers[result_idx])\n",
    "\n",
    "    ax.plot(u_at_plot_pos*scipy.constants.year, res['zs'], linestyle='--', linewidth=1, c=result_colors[result_idx], label=f'True n = {res[\"n\"]}')\n",
    "\n",
    "ax.set_xlabel('Horizontal velocity [m/yr]')\n",
    "ax.set_ylabel('z [m]')\n",
    "handles, labels = ax.get_legend_handles_labels()\n",
    "ax.legend(handles[::-1], labels[::-1], fontsize='small')\n",
    "ax.grid()\n",
    "#ax.set_title(f'Horizontal Velocity Profile\\nat x = {plot_pos_x/1e3} km')\n",
    "ax.set_title('(d)', loc='left', fontweight='bold')\n",
    "\n",
    "# Strain rate profiles\n",
    "ax = fig.add_subplot(gs[:, 2])\n",
    "for result_idx, res in enumerate(results):\n",
    "    ax.scatter(np.log10(res['eff_stress']), np.log10(res['du_dz_central_diff']), label=f'n = {res[\"n\"]}', s=2, c=result_colors[result_idx], marker=result_markers[result_idx])\n",
    "\n",
    "ax.set_aspect(0.5)\n",
    "ax.set_xlabel('log(effective stress)')\n",
    "ax.set_ylabel('log(strain rate)')\n",
    "handles, labels = ax.get_legend_handles_labels()\n",
    "ax.legend(handles[::-1], labels[::-1], fontsize='small')\n",
    "# Set the grid spacing to 1 on both axes\n",
    "ax.set_xticks(np.arange(2, 5, 1))\n",
    "ax.set_yticks(np.arange(-10, -2, 1))\n",
    "#ax.set_ylim(-10, -2)\n",
    "ax.set_xlim(2, 4.5)\n",
    "ax.grid()\n",
    "#ax.set_title(f'Stress vs Strain\\nalong characteristic curves')\n",
    "ax.set_title('(e)', loc='left', fontweight='bold')\n",
    "\n",
    "import matplotlib.lines as mlines\n",
    "layer_line = mlines.Line2D([], [], linewidth=0.5, linestyle='--', color='k', label='Layers')\n",
    "last_result_ax.legend(handles=[layer_line], bbox_to_anchor=(0.3, -0.2))\n",
    "\n",
    "#fig.savefig('figures/example_rheology.png', dpi=500)"
   ]
  },
  {
   "cell_type": "code",
   "execution_count": null,
   "metadata": {},
   "outputs": [],
   "source": []
  }
 ],
 "metadata": {
  "kernelspec": {
   "display_name": "englacial_velocity_3",
   "language": "python",
   "name": "python3"
  },
  "language_info": {
   "codemirror_mode": {
    "name": "ipython",
    "version": 3
   },
   "file_extension": ".py",
   "mimetype": "text/x-python",
   "name": "python",
   "nbconvert_exporter": "python",
   "pygments_lexer": "ipython3",
   "version": "3.13.2"
  }
 },
 "nbformat": 4,
 "nbformat_minor": 2
}
