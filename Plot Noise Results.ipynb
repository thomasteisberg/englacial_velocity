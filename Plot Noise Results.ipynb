{
 "cells": [
  {
   "cell_type": "code",
   "execution_count": null,
   "metadata": {},
   "outputs": [],
   "source": [
    "import numpy as np\n",
    "import matplotlib.pyplot as plt\n",
    "import matplotlib\n",
    "import scipy\n",
    "import sympy\n",
    "from sympy import *\n",
    "import pickle\n",
    "\n",
    "import pandas as pd\n",
    "from io import StringIO"
   ]
  },
  {
   "cell_type": "code",
   "execution_count": null,
   "metadata": {},
   "outputs": [],
   "source": [
    "# This is just temporary with values manually copied from Basal Slip Example to\n",
    "# get an idea of what this plot will look like.\n",
    "\n",
    "horizontal_velocity_csv_text = \"\"\"\n",
    "0 deg\t5 deg\t10 deg\t15 deg\n",
    "1 db\t0.441\t0.443\t0.447\t0.455\n",
    "5 db\t0.303\t0.304\t0.307\t0.311\n",
    "10 db\t0.213\t0.214\t0.215\t0.217\n",
    "15 db\t0.175\t0.175\t0.176\t0.177\n",
    "\"\"\"\n",
    "\n",
    "vertical_velocity_csv_text = \"\"\"\n",
    "0 deg\t5 deg\t10 deg\t15 deg\n",
    "1 db\t0.014\t0.0157\t0.0293\t0.0583\n",
    "5 db\t0.00947\t0.012\t0.0276\t0.0575\n",
    "10 db\t0.00645\t0.00982\t0.0268\t0.0572\n",
    "15 db\t0.00503\t0.00902\t0.0266\t0.0571\n",
    "\"\"\"\n",
    "\n",
    "# pandas read csv from text string\n",
    "\n",
    "fig, (ax_horiz, ax_vert) = plt.subplots(2, 1, figsize=(5, 6))\n",
    "\n",
    "df_horiz = pd.read_csv(StringIO(horizontal_velocity_csv_text), sep='\\t')\n",
    "df_horiz.plot(ax=ax_horiz)\n",
    "ax_horiz.set_ylabel('RMS Errors in\\nHorizontal Velocity [m/yr]')\n",
    "ax_horiz.set_xlabel('SNR [dB]')\n",
    "ax_horiz.set_title('RMS Errors in Horizontal Velocity vs SNR\\nwith uncompensated cross-track layer slope')\n",
    "ax_horiz.invert_xaxis()\n",
    "ax_horiz.grid()\n",
    "\n",
    "df_vert = pd.read_csv(StringIO(vertical_velocity_csv_text), sep='\\t')\n",
    "df_vert.plot(ax=ax_vert)\n",
    "ax_vert.set_ylabel('RMS Errors in\\nVertical Velocity [m/yr]')\n",
    "ax_vert.set_xlabel('SNR [dB]')\n",
    "ax_vert.set_title('RMS Errors in Vertical Velocity vs SNR\\nwith uncompensated cross-track layer slope')\n",
    "ax_vert.invert_xaxis()\n",
    "ax_vert.legend(loc='upper left')\n",
    "ax_vert.grid()\n",
    "\n",
    "fig.tight_layout()\n",
    "fig.savefig('rms_errors_vs_snr.png', dpi=300)"
   ]
  },
  {
   "cell_type": "code",
   "execution_count": null,
   "metadata": {},
   "outputs": [],
   "source": []
  }
 ],
 "metadata": {
  "kernelspec": {
   "display_name": "englacial_velocity_2",
   "language": "python",
   "name": "python3"
  },
  "language_info": {
   "codemirror_mode": {
    "name": "ipython",
    "version": 3
   },
   "file_extension": ".py",
   "mimetype": "text/x-python",
   "name": "python",
   "nbconvert_exporter": "python",
   "pygments_lexer": "ipython3",
   "version": "3.12.4"
  }
 },
 "nbformat": 4,
 "nbformat_minor": 2
}
