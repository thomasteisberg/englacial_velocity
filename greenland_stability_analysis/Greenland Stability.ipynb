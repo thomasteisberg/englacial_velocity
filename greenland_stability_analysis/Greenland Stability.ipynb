{
 "cells": [
  {
   "cell_type": "code",
   "execution_count": null,
   "metadata": {},
   "outputs": [],
   "source": [
    "import xarray as xr\n",
    "import numpy as np\n",
    "import rioxarray\n",
    "import h5netcdf\n",
    "import h5py\n",
    "import netCDF4\n",
    "import scipy.ndimage\n",
    "\n",
    "import holoviews as hv\n",
    "\n",
    "import hvplot.xarray\n",
    "import geoviews as gv\n",
    "\n",
    "import cartopy.crs as ccrs\n",
    "import matplotlib.pyplot as plt\n",
    "import matplotlib as mpl"
   ]
  },
  {
   "cell_type": "markdown",
   "metadata": {},
   "source": [
    "## This notebook is associated with Appendix A of the paper\n",
    "\n",
    "It produces the surface velocity divergence figure in the appendix and several other plots (not included in the manuscript) that can be used to build intuition around the stability of the ODE in Greenland based on available data."
   ]
  },
  {
   "cell_type": "code",
   "execution_count": null,
   "metadata": {},
   "outputs": [],
   "source": [
    "surface_velocity = xr.open_dataset('data/GRE_G0120_0000.nc')\n",
    "surface_velocity_spacing_m = np.median(np.diff(surface_velocity['x']))\n",
    "assert(np.max(np.diff(surface_velocity['x'])) == surface_velocity_spacing_m)\n",
    "assert(np.min(np.diff(surface_velocity['x'])) == surface_velocity_spacing_m)\n",
    "\n",
    "age_model = xr.open_dataset('data/RRRAG4_Greenland_1993_2013_01_age_grid.nc',\n",
    "                               engine='h5netcdf').rename(\n",
    "                                   {'number of grid points in x-direction': 'x', 'number of grid points in y-direction': 'y', 'number of vertical layers': 'layers', 'number of isochrones': 'original_isochrones',\n",
    "                                    'x': 'x_km', 'y': 'y_km'}\n",
    "                                   )\n",
    "# Convert km to meters for consistency\n",
    "age_model = age_model.assign_coords({'x':age_model.x_km[:,0]*1000, 'y':age_model.y_km[0,:]*1000})\n",
    "\n",
    "bedmachine = xr.open_dataset('data/BedMachineGreenland-v5.nc')"
   ]
  },
  {
   "cell_type": "code",
   "execution_count": null,
   "metadata": {},
   "outputs": [],
   "source": [
    "crs_3413 = ccrs.Stereographic(central_latitude=90, central_longitude=-45, true_scale_latitude=70)"
   ]
  },
  {
   "cell_type": "code",
   "execution_count": null,
   "metadata": {},
   "outputs": [],
   "source": [
    "isochrone_ages = np.logspace(3, 6, 20)\n",
    "\n",
    "def interpolate_age_depths(age_norm, age_norm_depths = age_model['depth_norm'].to_numpy(), query_ages = isochrone_ages):\n",
    "    return np.interp(query_ages, age_norm, age_norm_depths, left=np.nan, right=np.nan)\n",
    "\n",
    "isochrones_norm = xr.apply_ufunc(interpolate_age_depths, age_model['age_norm'], input_core_dims=[['layers']], output_core_dims=[['isochrone']], vectorize=True)\n",
    "isochrones_norm = isochrones_norm.assign_coords({'isochrone': isochrone_ages})"
   ]
  },
  {
   "cell_type": "code",
   "execution_count": null,
   "metadata": {},
   "outputs": [],
   "source": [
    "smoothing_kernel_std = 5000 # m"
   ]
  },
  {
   "cell_type": "code",
   "execution_count": null,
   "metadata": {},
   "outputs": [],
   "source": [
    "# isochrones_norm is in normalized depth (0 == surface, 1 == bed)\n",
    "# want to convert this into elevation relative to the geoid in order to find layer geometry and then slope\n",
    "layer_elevation = ((1 - isochrones_norm) * age_model['thick']) + bedmachine['bed'].interp(x=age_model['x'], y=age_model['y'])\n",
    "layer_elevation.name = \"Layer Elevation\"\n",
    "\n",
    "layer_elevation_spacing_m = np.median(np.diff(layer_elevation['x']))\n",
    "assert(np.max(np.diff(layer_elevation['x'])) == layer_elevation_spacing_m)\n",
    "assert(np.min(np.diff(layer_elevation['x'])) == layer_elevation_spacing_m)\n",
    "assert(np.max(np.diff(layer_elevation['y'])) == layer_elevation_spacing_m)\n",
    "assert(np.min(np.diff(layer_elevation['y'])) == layer_elevation_spacing_m)\n",
    "\n",
    "layer_elevation_filt = xr.apply_ufunc(scipy.ndimage.gaussian_filter, layer_elevation, input_core_dims=[['x', 'y']], output_core_dims=[['x', 'y']], vectorize=True, kwargs={'sigma': smoothing_kernel_std / layer_elevation_spacing_m})"
   ]
  },
  {
   "cell_type": "code",
   "execution_count": null,
   "metadata": {},
   "outputs": [],
   "source": [
    "surf_u_filt = xr.apply_ufunc(scipy.ndimage.gaussian_filter, surface_velocity['vx'], kwargs={'sigma': smoothing_kernel_std / surface_velocity_spacing_m, 'truncate': 2})\n",
    "surf_v_filt = xr.apply_ufunc(scipy.ndimage.gaussian_filter, surface_velocity['vx'], kwargs={'sigma': smoothing_kernel_std / surface_velocity_spacing_m, 'truncate': 2})"
   ]
  },
  {
   "cell_type": "code",
   "execution_count": null,
   "metadata": {},
   "outputs": [],
   "source": [
    "layer_dx_dz = layer_elevation_filt.differentiate(\"x\").differentiate(\"isochrone\") / layer_elevation.differentiate(\"isochrone\")\n",
    "layer_dy_dz = layer_elevation_filt.differentiate(\"y\").differentiate(\"isochrone\") / layer_elevation.differentiate(\"isochrone\")\n",
    "\n",
    "us = surf_u_filt.interp(x=age_model['x'], y=age_model['y']).squeeze() # Surface velocity X component\n",
    "vs = surf_v_filt.interp(x=age_model['x'], y=age_model['y']).squeeze() # Surface velocity Y component\n",
    "us_dx = us.differentiate(\"x\")\n",
    "vs_dy = vs.differentiate(\"y\")\n",
    "\n",
    "#stab_crit = (us * layer_dx_dz) + (vs * layer_dy_dz)\n",
    "#stab_crit = us_dx + vs_dy\n",
    "stab_crit = (us * layer_dx_dz) + (vs * layer_dy_dz) + us_dx + vs_dy\n",
    "\n",
    "p = stab_crit.hvplot.image('x', 'y', crs=crs_3413, coastline=True, cmap='bwr', frame_height=500, clim=(-1e-3,1e-3), rasterize=False, dynamic=True)\n",
    "\n",
    "p"
   ]
  },
  {
   "cell_type": "code",
   "execution_count": null,
   "metadata": {},
   "outputs": [],
   "source": [
    "surf_vel_divergence = us_dx + vs_dy\n",
    "p = surf_vel_divergence.hvplot.image('x', 'y', crs=crs_3413, coastline=True, cmap='bwr', frame_height=500, clim=(-1e-3,1e-3), rasterize=False, clabel='Surface Velocity Divergence [1/year]')\n",
    "hvplot.save(p, f'surf_vel_divergence_smoothstd{smoothing_kernel_std}.png')\n",
    "p"
   ]
  },
  {
   "cell_type": "code",
   "execution_count": null,
   "metadata": {},
   "outputs": [],
   "source": [
    "layer_slopes = np.sqrt( (layer_elevation_filt.differentiate(\"x\") ** 2) + (layer_elevation_filt.differentiate(\"y\") ** 2) )\n",
    "p = (layer_slopes * 1000).hvplot.image('x', 'y', crs=crs_3413, coastline=True, frame_height=500, clim=(0,20), rasterize=False)\n",
    "p.opts(title=f\"Layer slope [m/km]\")"
   ]
  },
  {
   "cell_type": "code",
   "execution_count": null,
   "metadata": {},
   "outputs": [],
   "source": [
    "qts = np.arange(0.1, 0.9, 0.01)\n",
    "\n",
    "layer_geom_terms = (us * layer_dx_dz) + (vs * layer_dy_dz)\n",
    "surf_vel_divergence = us_dx + vs_dy\n",
    "\n",
    "p = layer_geom_terms.quantile(qts).rename('(us * layer_dx_dz) + (vs * layer_dy_dz)').hvplot(label='(us * layer_dx_dz) + (vs * layer_dy_dz)') * \\\n",
    "    surf_vel_divergence.quantile(qts).rename('us_dx + vs_dy').hvplot(label='us_dx + vs_dy').opts(xlabel='') * \\\n",
    "    (layer_geom_terms + surf_vel_divergence).quantile(qts).rename('sum').hvplot(label='sum').opts(xlabel='')\n",
    "p.opts(ylabel='', xlabel='quantile', legend_position=\"top_left\", show_grid=True, ylim=(-5e-4, 1e-3), title=f'Smoothing Std {smoothing_kernel_std/1000} km')\n",
    "#hvplot.save(p, f'stability_terms_comparison_smoothstd{smoothing_kernel_std}.png')\n",
    "p"
   ]
  },
  {
   "cell_type": "code",
   "execution_count": null,
   "metadata": {},
   "outputs": [],
   "source": [
    "abs_ratio = np.abs(surf_vel_divergence / layer_geom_terms)\n",
    "p = abs_ratio.quantile(qts).rename('quantiles').hvplot(label='abs(us_dx + vs_dy) / abs((us * layer_dx_dz) + (vs * layer_dy_dz))').opts(xlabel='')\n",
    "p.opts(ylabel='Ratio of surface velocity divergence to\\nlayer geometry terms', xlabel='quantile', show_grid=True, ylim=(0, 10))\n",
    "#p.opts(ylabel='', xlabel='quantile', legend_position=\"top_left\", show_grid=True, ylim=(0, 5), title=f'Smoothing Std {smoothing_kernel_std/1000} km')"
   ]
  },
  {
   "cell_type": "code",
   "execution_count": null,
   "metadata": {},
   "outputs": [],
   "source": [
    "all_ratios = abs_ratio.to_numpy().flatten()\n",
    "all_ratios = all_ratios[~np.isnan(all_ratios)]\n",
    "len(all_ratios[all_ratios > 2]) / len(all_ratios)"
   ]
  },
  {
   "cell_type": "code",
   "execution_count": null,
   "metadata": {},
   "outputs": [],
   "source": []
  }
 ],
 "metadata": {
  "kernelspec": {
   "display_name": "rg2",
   "language": "python",
   "name": "python3"
  },
  "language_info": {
   "codemirror_mode": {
    "name": "ipython",
    "version": 3
   },
   "file_extension": ".py",
   "mimetype": "text/x-python",
   "name": "python",
   "nbconvert_exporter": "python",
   "pygments_lexer": "ipython3",
   "version": "3.11.3"
  },
  "orig_nbformat": 4,
  "vscode": {
   "interpreter": {
    "hash": "bb81f79795c75689c11bb9ecc505fc7b83ca5f9665fb7ad4bb0ce31dc1de5ece"
   }
  }
 },
 "nbformat": 4,
 "nbformat_minor": 2
}
