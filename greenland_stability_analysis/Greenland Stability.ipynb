{
 "cells": [
  {
   "cell_type": "code",
   "execution_count": null,
   "metadata": {},
   "outputs": [],
   "source": [
    "import xarray as xr\n",
    "import numpy as np\n",
    "import rioxarray\n",
    "import h5netcdf\n",
    "import h5py\n",
    "import netCDF4\n",
    "import scipy.ndimage\n",
    "\n",
    "import hvplot.xarray\n",
    "import geoviews as gv\n",
    "\n",
    "import cartopy.crs as ccrs\n",
    "import matplotlib.pyplot as plt\n",
    "import matplotlib as mpl"
   ]
  },
  {
   "cell_type": "code",
   "execution_count": null,
   "metadata": {},
   "outputs": [],
   "source": [
    "surface_velocity = xr.open_dataset('data/GRE_G0120_0000.nc')\n",
    "surface_velocity_spacing_m = np.median(np.diff(surface_velocity['x']))\n",
    "assert(np.max(np.diff(surface_velocity['x'])) == surface_velocity_spacing_m)\n",
    "assert(np.min(np.diff(surface_velocity['x'])) == surface_velocity_spacing_m)\n",
    "\n",
    "age_model = xr.open_dataset('data/RRRAG4_Greenland_1993_2013_01_age_grid.nc',\n",
    "                               engine='h5netcdf').rename(\n",
    "                                   {'number of grid points in x-direction': 'x', 'number of grid points in y-direction': 'y', 'number of vertical layers': 'layers', 'number of isochrones': 'original_isochrones',\n",
    "                                    'x': 'x_km', 'y': 'y_km'}\n",
    "                                   )\n",
    "# Convert km to meters for consistency with the rest of the world\n",
    "age_model = age_model.assign_coords({'x':age_model.x_km[:,0]*1000, 'y':age_model.y_km[0,:]*1000})\n",
    "\n",
    "bedmachine = xr.open_dataset('data/BedMachineGreenland-v5.nc')"
   ]
  },
  {
   "cell_type": "code",
   "execution_count": null,
   "metadata": {},
   "outputs": [],
   "source": [
    "crs_3413 = ccrs.Stereographic(central_latitude=90, central_longitude=-45, true_scale_latitude=70)"
   ]
  },
  {
   "cell_type": "code",
   "execution_count": null,
   "metadata": {},
   "outputs": [],
   "source": [
    "isochrone_ages = np.logspace(3, 6, 20)\n",
    "\n",
    "def interpolate_age_depths(age_norm, age_norm_depths = age_model['depth_norm'].to_numpy(), query_ages = isochrone_ages):\n",
    "    return np.interp(query_ages, age_norm, age_norm_depths, left=np.nan, right=np.nan)\n",
    "\n",
    "isochrones_norm = xr.apply_ufunc(interpolate_age_depths, age_model['age_norm'], input_core_dims=[['layers']], output_core_dims=[['isochrone']], vectorize=True)\n",
    "isochrones_norm = isochrones_norm.assign_coords({'isochrone': isochrone_ages})"
   ]
  },
  {
   "cell_type": "code",
   "execution_count": null,
   "metadata": {},
   "outputs": [],
   "source": [
    "smoothing_kernel_std = 5000 # m"
   ]
  },
  {
   "cell_type": "code",
   "execution_count": null,
   "metadata": {},
   "outputs": [],
   "source": [
    "# isochrones_norm is in normalized depth (0 == surface, 1 == bed)\n",
    "# want to convert this into elevation relative to the geoid in order to find layer geometry and then slope\n",
    "layer_elevation = ((1 - isochrones_norm) * age_model['thick']) + bedmachine['bed'].interp(x=age_model['x'], y=age_model['y'])\n",
    "layer_elevation.name = \"Layer Elevation\"\n",
    "\n",
    "layer_elevation_spacing_m = np.median(np.diff(layer_elevation['x']))\n",
    "assert(np.max(np.diff(layer_elevation['x'])) == layer_elevation_spacing_m)\n",
    "assert(np.min(np.diff(layer_elevation['x'])) == layer_elevation_spacing_m)\n",
    "assert(np.max(np.diff(layer_elevation['y'])) == layer_elevation_spacing_m)\n",
    "assert(np.min(np.diff(layer_elevation['y'])) == layer_elevation_spacing_m)\n",
    "\n",
    "layer_elevation_filt = xr.apply_ufunc(scipy.ndimage.gaussian_filter, layer_elevation, input_core_dims=[['x', 'y']], output_core_dims=[['x', 'y']], vectorize=True, kwargs={'sigma': smoothing_kernel_std / layer_elevation_spacing_m})"
   ]
  },
  {
   "cell_type": "code",
   "execution_count": null,
   "metadata": {},
   "outputs": [],
   "source": [
    "surf_u_filt = xr.apply_ufunc(scipy.ndimage.gaussian_filter, surface_velocity['vx'], kwargs={'sigma': smoothing_kernel_std / surface_velocity_spacing_m, 'truncate': 2})\n",
    "surf_v_filt = xr.apply_ufunc(scipy.ndimage.gaussian_filter, surface_velocity['vx'], kwargs={'sigma': smoothing_kernel_std / surface_velocity_spacing_m, 'truncate': 2})"
   ]
  },
  {
   "cell_type": "code",
   "execution_count": null,
   "metadata": {},
   "outputs": [],
   "source": [
    "layer_dx_dz = layer_elevation_filt.differentiate(\"x\").differentiate(\"isochrone\") / layer_elevation.differentiate(\"isochrone\")\n",
    "layer_dy_dz = layer_elevation_filt.differentiate(\"y\").differentiate(\"isochrone\") / layer_elevation.differentiate(\"isochrone\")\n",
    "\n",
    "us = surf_u_filt.interp(x=age_model['x'], y=age_model['y']).squeeze() # Surface velocity X component\n",
    "vs = surf_v_filt.interp(x=age_model['x'], y=age_model['y']).squeeze() # Surface velocity Y component\n",
    "us_dx = us.differentiate(\"x\")\n",
    "vs_dy = vs.differentiate(\"y\")\n",
    "\n",
    "#stab_crit = (us * layer_dx_dz) + (vs * layer_dy_dz)\n",
    "#stab_crit = us_dx + vs_dy\n",
    "stab_crit = (us * layer_dx_dz) + (vs * layer_dy_dz) + us_dx + vs_dy\n",
    "\n",
    "p = stab_crit.hvplot.image('x', 'y', crs=crs_3413, coastline=True, cmap='bwr', frame_height=500, clim=(-1e-3,1e-3), rasterize=False, dynamic=True)\n",
    "#stab_crit.hvplot.quadmesh('x', 'y', crs=crs_3413, coastline=True, groupby=['isochrone'], cmap='RdBu', clim=(-1e-6,1e-6), frame_height=1000, rasterize=True)\n",
    "\n",
    "\n",
    "#layer_dx_dz.hvplot.quadmesh('x', 'y', crs=crs_3413, rasterize=True, coastline=True, frame_height=500, groupby=['isochrone'])\n",
    "\n",
    "#hvplot.save(p, 'surf_vel_divergence.png')\n",
    "p"
   ]
  },
  {
   "cell_type": "code",
   "execution_count": null,
   "metadata": {},
   "outputs": [],
   "source": [
    "surf_vel_divergence = us_dx + vs_dy\n",
    "p = surf_vel_divergence.hvplot.image('x', 'y', crs=crs_3413, coastline=True, cmap='bwr', frame_height=500, clim=(-1e-3,1e-3), rasterize=False)\n",
    "#hvplot.save(p, f'surf_vel_divergence_smoothstd{smoothing_kernel_std}.png')\n",
    "p"
   ]
  },
  {
   "cell_type": "code",
   "execution_count": null,
   "metadata": {},
   "outputs": [],
   "source": [
    "layer_slopes = np.sqrt( (layer_elevation_filt.differentiate(\"x\") ** 2) + (layer_elevation_filt.differentiate(\"y\") ** 2) )\n",
    "p = (layer_slopes * 1000).hvplot.image('x', 'y', crs=crs_3413, coastline=True, frame_height=500, clim=(0,20), rasterize=False)\n",
    "p.opts(title=f\"Layer slope [m/km]\")"
   ]
  },
  {
   "cell_type": "code",
   "execution_count": null,
   "metadata": {},
   "outputs": [],
   "source": [
    "qts = np.arange(0.1, 0.9, 0.01)\n",
    "\n",
    "layer_geom_terms = (us * layer_dx_dz) + (vs * layer_dy_dz)\n",
    "surf_vel_divergence = us_dx + vs_dy\n",
    "\n",
    "p = layer_geom_terms.quantile(qts).rename('(us * layer_dx_dz) + (vs * layer_dy_dz)').hvplot(label='(us * layer_dx_dz) + (vs * layer_dy_dz)') * \\\n",
    "    surf_vel_divergence.quantile(qts).rename('us_dx + vs_dy').hvplot(label='us_dx + vs_dy').opts(xlabel='') * \\\n",
    "    (layer_geom_terms + surf_vel_divergence).quantile(qts).rename('sum').hvplot(label='sum').opts(xlabel='')\n",
    "p.opts(ylabel='', xlabel='quantile', legend_position=\"top_left\", show_grid=True, ylim=(-5e-4, 1e-3), title=f'Smoothing Std {smoothing_kernel_std/1000} km')\n",
    "#hvplot.save(p, f'stability_terms_comparison_smoothstd{smoothing_kernel_std}.png')\n",
    "p"
   ]
  },
  {
   "cell_type": "code",
   "execution_count": null,
   "metadata": {},
   "outputs": [],
   "source": [
    "abs_ratio = np.abs(surf_vel_divergence / layer_geom_terms)\n",
    "p = abs_ratio.quantile(qts).rename('quantiles').hvplot(label='abs(us_dx + vs_dy) / abs((us * layer_dx_dz) + (vs * layer_dy_dz))').opts(xlabel='')\n",
    "p.opts(ylabel='Ratio of surface velocity divergence to\\nlayer geometry terms', xlabel='quantile', show_grid=True, ylim=(0, 10))\n",
    "#p.opts(ylabel='', xlabel='quantile', legend_position=\"top_left\", show_grid=True, ylim=(0, 5), title=f'Smoothing Std {smoothing_kernel_std/1000} km')"
   ]
  },
  {
   "cell_type": "markdown",
   "metadata": {},
   "source": [
    "## OLD STUFF"
   ]
  },
  {
   "cell_type": "code",
   "execution_count": null,
   "metadata": {},
   "outputs": [],
   "source": [
    "layer_idx = int(np.abs(age_model['depth_norm'] - 0.5).argmin())\n",
    "fractional_thickness_of_layer = float(age_model['depth_norm'][layer_idx])\n",
    "age_at_layer = age_model['age_norm'].sel(layers=layer_idx)\n",
    "age_at_layer.hvplot.image('x', 'y', crs=crs_3413, coastline=True, rasterize=False)"
   ]
  },
  {
   "cell_type": "code",
   "execution_count": null,
   "metadata": {},
   "outputs": [],
   "source": [
    "layer_dx_at_sel_layer = layer_elevation_filt.differentiate('x').interp(isochrone=age_at_layer)\n",
    "layer_dy_at_sel_layer = layer_elevation_filt.differentiate('y').interp(isochrone=age_at_layer)\n",
    "\n",
    "layer_slope_at_sel_layer = np.sqrt(layer_dx_at_sel_layer**2 + layer_dy_at_sel_layer**2)\n",
    "\n",
    "\n",
    "p = (layer_slope_at_sel_layer * 1000).hvplot.image('x', 'y', crs=crs_3413, coastline=True, rasterize=False, frame_height=500, clim=(0,20))\n",
    "p.opts(title=f\"Layer slope at {fractional_thickness_of_layer*100:.0f}% of ice thickness [m/km]\")"
   ]
  },
  {
   "cell_type": "code",
   "execution_count": null,
   "metadata": {},
   "outputs": [],
   "source": [
    "surface_velocity"
   ]
  },
  {
   "cell_type": "code",
   "execution_count": null,
   "metadata": {},
   "outputs": [],
   "source": [
    "layer_induced_apparent_vertical_motion = (layer_dx_at_sel_layer * us) + (layer_dy_at_sel_layer * vs) \n",
    "\n",
    "p = layer_induced_apparent_vertical_motion.hvplot.image('x', 'y', crs=crs_3413, coastline=True, rasterize=False, cmap='bwr', frame_height=500, clim=(-0.5,0.5))\n",
    "p.opts(title=f\"Layer induced apparent vertical motion at\\n{fractional_thickness_of_layer*100:.0f}% of ice thickness [m/yr]\")"
   ]
  },
  {
   "cell_type": "code",
   "execution_count": null,
   "metadata": {},
   "outputs": [],
   "source": [
    "surf_vel_mag = np.sqrt(us**2 + vs**2)\n",
    "p = surf_vel_mag.hvplot.image('x', 'y', crs=crs_3413, coastline=True, rasterize=False, frame_height=500, clim=(0,100), cmap='OrRd')\n",
    "p.opts(title=f\"Surface velocity [m/yr]\")"
   ]
  },
  {
   "cell_type": "code",
   "execution_count": null,
   "metadata": {},
   "outputs": [],
   "source": [
    "# p = us.quantile(qts).hvplot(label='us') * \\\n",
    "#     vs.quantile(qts).hvplot(label='vy')\n",
    "# p.opts(ylabel='', legend_position=\"top_left\")\n",
    "# #hvplot.save(p, 'surface_velocity.png')"
   ]
  },
  {
   "cell_type": "code",
   "execution_count": null,
   "metadata": {},
   "outputs": [],
   "source": []
  },
  {
   "cell_type": "code",
   "execution_count": null,
   "metadata": {},
   "outputs": [],
   "source": [
    "# t = layer_dx_dz\n",
    "# print((t.mean(), t.std()))\n",
    "# print(abs(t).mean())\n",
    "# print(t.quantile([0.01, 0.1, 0.5, 0.9, 0.99]))\n",
    "# t.hvplot.hist(bins=500)"
   ]
  },
  {
   "cell_type": "code",
   "execution_count": null,
   "metadata": {},
   "outputs": [],
   "source": []
  },
  {
   "cell_type": "code",
   "execution_count": null,
   "metadata": {},
   "outputs": [],
   "source": [
    "stab_crit"
   ]
  },
  {
   "cell_type": "code",
   "execution_count": null,
   "metadata": {},
   "outputs": [],
   "source": [
    "layer_elevation.hvplot.quadmesh('x', 'y', crs=crs_3413, rasterize=True, coastline=True, frame_height=500, groupby=['isochrone'])\n",
    "# TODO : haven't sanity checked this. see if it makes sense. Then work on layer slopes estimates"
   ]
  },
  {
   "cell_type": "code",
   "execution_count": null,
   "metadata": {},
   "outputs": [],
   "source": [
    "isochrones_norm.hvplot.quadmesh('x', 'y', crs=crs_3413, rasterize=True, coastline=True, height=500, groupby=['isochrone'])"
   ]
  },
  {
   "cell_type": "code",
   "execution_count": null,
   "metadata": {},
   "outputs": [],
   "source": [
    "#isochrones_norm.to_dataset().to(hv.quadmesh, 'x', 'y', groupby=['isochrone'], crs=crs_3413, rasterize=True, coastline=True)\n",
    "isochrones_norm.assign_coords({'isochrone': [1,2,3,4]}).hvplot.quadmesh('x', 'y', crs=crs_3413, rasterize=True, coastline=True, groupby=['isochrone'])"
   ]
  },
  {
   "cell_type": "code",
   "execution_count": null,
   "metadata": {},
   "outputs": [],
   "source": [
    "# Giving up on matplotlib since I got HV working\n",
    "\n",
    "# #epsg_3413_maybe = ccrs.NorthPolarStereo(true_scale_latitude=70, central_longitude=70)\n",
    "# crs_3413 = ccrs.Stereographic(central_latitude=90, central_longitude=-45, true_scale_latitude=70) # I think this is right, but the rest of this still doesn't work\n",
    "# fig, ax = plt.subplots(subplot_kw={'projection': crs_3413})\n",
    "\n",
    "# ax.coastlines()\n",
    "# #ax.set_xlim(-6e6, 9e6)\n",
    "# #ax.set_ylim(-3e7, -7e6)\n",
    "# #ax.set_aspect('equal')\n",
    "# isochrones_norm.loc[{'isochrone': 1}].plot(ax=ax, transform=crs_3413)"
   ]
  },
  {
   "cell_type": "code",
   "execution_count": null,
   "metadata": {},
   "outputs": [],
   "source": [
    "layer_idx = 0\n",
    "normalized_layer_depth = age_model['age_norm'].loc['number of vertical layers' == layer_idx]\n",
    "# Note: bedmachine x and y units are EPSG:3413 in meters, age_model x and y units are EPSG:3413 in km\n",
    "layer_elevation = (normalized_layer_depth * age_model['thick']) #+ bedmachine['bed'].interp(x=age_model['x']*1e3, y=age_model['y']*1e3)\n"
   ]
  },
  {
   "cell_type": "code",
   "execution_count": null,
   "metadata": {},
   "outputs": [],
   "source": [
    "normalized_layer_depth.plot()"
   ]
  },
  {
   "cell_type": "code",
   "execution_count": null,
   "metadata": {},
   "outputs": [],
   "source": [
    "age_model"
   ]
  },
  {
   "cell_type": "code",
   "execution_count": null,
   "metadata": {},
   "outputs": [],
   "source": [
    "age_model['age_norm']"
   ]
  },
  {
   "cell_type": "code",
   "execution_count": null,
   "metadata": {},
   "outputs": [],
   "source": [
    "netCDF4.Dataset('data/RRRAG4_Greenland_1993_2013_01_age_grid.nc', 'r').variables['age_iso'][:]"
   ]
  },
  {
   "cell_type": "code",
   "execution_count": null,
   "metadata": {},
   "outputs": [],
   "source": [
    "# Open 'data/RRRAG4_Greenland_1993_2013_01_radiostratigraphy.mat' with h5py\n",
    "f = h5py.File('data/RRRAG4_Greenland_1993_2013_01_radiostratigraphy.mat', 'r')\n",
    "list(f['gris_strat']['campaign']['name'][5])"
   ]
  },
  {
   "cell_type": "code",
   "execution_count": null,
   "metadata": {},
   "outputs": [],
   "source": [
    "xr.open_dataset(xr.backends.H5NetCDFStore(f['gris_strat']))"
   ]
  },
  {
   "cell_type": "code",
   "execution_count": null,
   "metadata": {},
   "outputs": [],
   "source": [
    "xr.Dataset(f['gris_strat'])"
   ]
  },
  {
   "cell_type": "code",
   "execution_count": null,
   "metadata": {},
   "outputs": [],
   "source": []
  }
 ],
 "metadata": {
  "kernelspec": {
   "display_name": "rg2",
   "language": "python",
   "name": "python3"
  },
  "language_info": {
   "codemirror_mode": {
    "name": "ipython",
    "version": 3
   },
   "file_extension": ".py",
   "mimetype": "text/x-python",
   "name": "python",
   "nbconvert_exporter": "python",
   "pygments_lexer": "ipython3",
   "version": "3.11.3"
  },
  "orig_nbformat": 4,
  "vscode": {
   "interpreter": {
    "hash": "bb81f79795c75689c11bb9ecc505fc7b83ca5f9665fb7ad4bb0ce31dc1de5ece"
   }
  }
 },
 "nbformat": 4,
 "nbformat_minor": 2
}
