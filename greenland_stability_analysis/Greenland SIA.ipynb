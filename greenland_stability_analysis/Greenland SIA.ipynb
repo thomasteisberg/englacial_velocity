{
 "cells": [
  {
   "cell_type": "code",
   "execution_count": null,
   "metadata": {},
   "outputs": [],
   "source": [
    "import xarray as xr\n",
    "import numpy as np\n",
    "import rioxarray\n",
    "import h5netcdf\n",
    "import h5py\n",
    "import netCDF4\n",
    "import scipy.ndimage\n",
    "\n",
    "import hvplot.xarray\n",
    "import geoviews as gv\n",
    "\n",
    "import cartopy.crs as ccrs\n",
    "import matplotlib.pyplot as plt\n",
    "import matplotlib as mpl"
   ]
  },
  {
   "cell_type": "code",
   "execution_count": null,
   "metadata": {},
   "outputs": [],
   "source": [
    "surface_velocity = xr.open_dataset('data/GRE_G0120_0000.nc').coarsen(x=100, y=100, boundary='trim').mean()\n",
    "surface_velocity_spacing_m = np.abs(np.median(np.diff(surface_velocity['x'])))\n",
    "assert(np.abs(np.max(np.diff(surface_velocity['x']))) == surface_velocity_spacing_m)\n",
    "assert(np.abs(np.min(np.diff(surface_velocity['x']))) == surface_velocity_spacing_m)\n",
    "assert(np.abs(np.max(np.diff(surface_velocity['y']))) == surface_velocity_spacing_m)\n",
    "assert(np.abs(np.min(np.diff(surface_velocity['y']))) == surface_velocity_spacing_m)\n",
    "\n",
    "age_model = xr.open_dataset('data/RRRAG4_Greenland_1993_2013_01_age_grid.nc',\n",
    "                               engine='h5netcdf').rename(\n",
    "                                   {'number of grid points in x-direction': 'x', 'number of grid points in y-direction': 'y', 'number of vertical layers': 'layers', 'number of isochrones': 'original_isochrones',\n",
    "                                    'x': 'x_km', 'y': 'y_km'}\n",
    "                                   )\n",
    "# Convert km to meters for consistency\n",
    "age_model = age_model.assign_coords({'x':age_model.x_km[:,0]*1000, 'y':age_model.y_km[0,:]*1000})\n",
    "\n",
    "bedmachine = xr.open_dataset('data/BedMachineGreenland-v5.nc')\n",
    "s = bedmachine['surface'].interp(x=surface_velocity['x'], y=surface_velocity['y'])\n",
    "\n",
    "bedmachine_spacing_m = np.abs(np.median(np.diff(bedmachine['x'])))\n",
    "assert(np.abs(np.max(np.diff(bedmachine['x']))) == bedmachine_spacing_m)\n",
    "assert(np.abs(np.min(np.diff(bedmachine['x']))) == bedmachine_spacing_m)\n",
    "assert(np.abs(np.max(np.diff(bedmachine['y']))) == bedmachine_spacing_m)\n",
    "assert(np.abs(np.min(np.diff(bedmachine['y']))) == bedmachine_spacing_m)"
   ]
  },
  {
   "cell_type": "code",
   "execution_count": null,
   "metadata": {},
   "outputs": [],
   "source": [
    "surface_velocity"
   ]
  },
  {
   "cell_type": "code",
   "execution_count": null,
   "metadata": {},
   "outputs": [],
   "source": [
    "crs_3413 = ccrs.Stereographic(central_latitude=90, central_longitude=-45, true_scale_latitude=70)\n",
    "\n",
    "def plot_on_map(da, **kwargs):\n",
    "    if 'cmap' not in kwargs:\n",
    "        if da.min() >= 0:\n",
    "            kwargs['cmap'] = 'OrRd'\n",
    "        else:\n",
    "            kwargs['cmap'] = 'RdBu_r'\n",
    "            if 'clim' not in kwargs:\n",
    "                abs_max = float((np.abs(da)).max())\n",
    "                kwargs['clim'] = (-abs_max, abs_max)\n",
    "\n",
    "    plot = da.hvplot.image(x='x', y='y', geo=True, rasterize=True, crs=crs_3413, **kwargs)\n",
    "    plot = plot * gv.feature.coastline()\n",
    "    return plot"
   ]
  },
  {
   "cell_type": "code",
   "execution_count": null,
   "metadata": {},
   "outputs": [],
   "source": [
    "smoothing_kernel_std = 10000 # m\n",
    "\n",
    "us_filt = xr.apply_ufunc(scipy.ndimage.gaussian_filter, surface_velocity['vx'], kwargs={'sigma': smoothing_kernel_std / surface_velocity_spacing_m, 'truncate': 2})\n",
    "vs_filt = xr.apply_ufunc(scipy.ndimage.gaussian_filter, surface_velocity['vy'], kwargs={'sigma': smoothing_kernel_std / surface_velocity_spacing_m, 'truncate': 2})\n",
    "s_filt = xr.apply_ufunc(scipy.ndimage.gaussian_filter, s, kwargs={'sigma': smoothing_kernel_std / surface_velocity_spacing_m, 'truncate': 2})"
   ]
  },
  {
   "cell_type": "code",
   "execution_count": null,
   "metadata": {},
   "outputs": [],
   "source": [
    "s_dx = s_filt.differentiate('x')\n",
    "s_dy = s_filt.differentiate('y')\n",
    "abs_grad_s = np.sqrt(s_dx**2 + s_dy**2)\n",
    "\n",
    "rho=918.0\n",
    "g=9.8\n",
    "n=1.5\n",
    "A0_n3 = 3.985e-13 # s^-1 Pa^-3\n",
    "Q = 60.0e3 # J mol^-1\n",
    "R = 8.314 # J mol^-1 K^-1\n",
    "T_rel_p = 273.15 - 20\n",
    "\n",
    "# Adjust A0 for match n\n",
    "log_ref_stress = 6.0\n",
    "log_ref_strain_rate = np.log10(2*A0_n3) + 3 * log_ref_stress\n",
    "log_2A = log_ref_strain_rate - n * log_ref_stress # log10(2A)\n",
    "A0 = 10**(log_2A) / 2\n",
    "\n",
    "A = A0 * np.exp(-Q/(R * T_rel_p)) * (365*60*60) # convert s^-1 to yr^-1\n",
    "\n",
    "# def sia_u(x, y, z, rho=918.0, g=9.8, n=3, A=A):\n",
    "#     us = us_filt.interp(x=x, y=y)\n",
    "#     u_diff_from_surf = 2 * (rho * g)**n * abs_grad_h.interp(x=x, y=y)**(n-1) * h_dx.interp(x=x, y=y) * A * (h.interp(x=x,y=y) - z)**(n+1) / (n+1)\n",
    "#     return us + u_diff_from_surf\n"
   ]
  },
  {
   "cell_type": "code",
   "execution_count": null,
   "metadata": {},
   "outputs": [],
   "source": [
    "s_minus_z = s * 0.7\n",
    "u_at_depth = us_filt + (2 * (rho * g)**n * abs_grad_s**(n-1) * s_dx * A * (s_minus_z)**(n+1) / (n+1))\n",
    "v_at_depth = vs_filt + (2 * (rho * g)**n * abs_grad_s**(n-1) * s_dy * A * (s_minus_z)**(n+1) / (n+1))\n",
    "\n",
    "du_dz_at_depth = -2 * A * (rho * g * (s_minus_z))**n * abs_grad_s**(n-1) * s_dx\n",
    "dv_dz_at_depth = -2 * A * (rho * g * (s_minus_z))**n * abs_grad_s**(n-1) * s_dy\n",
    "\n",
    "# Sanity check code:\n",
    "# u_at_depth_offset = us_filt + (2 * (rho * g)**n * abs_grad_s**(n-1) * s_dx * A * ((s * 0.5)+100)**(n+1) / (n+1))\n",
    "# v_at_depth_offset = vs_filt + (2 * (rho * g)**n * abs_grad_s**(n-1) * s_dy * A * ((s * 0.5)+100)**(n+1) / (n+1))\n",
    "\n",
    "# du_dz_approx = (u_at_depth - u_at_depth_offset) / 100\n",
    "# dv_dz_approx = (v_at_depth - v_at_depth_offset) / 100\n",
    "\n",
    "# plot_on_map(du_dx_approx - du_dx_at_depth)"
   ]
  },
  {
   "cell_type": "code",
   "execution_count": null,
   "metadata": {},
   "outputs": [],
   "source": [
    "# Parts of crazy equation from notes\n",
    "pA_x = us_filt.differentiate('x')\n",
    "pA_y = vs_filt.differentiate('y')\n",
    "\n",
    "pB = 2*A*(rho*g)**n * s_minus_z**n * abs_grad_s**(n-1) / (n+1)\n",
    "\n",
    "pC_x = (n+1)*(s_dx**2)\n",
    "pC_y = (n+1)*(s_dy**2)\n",
    "\n",
    "pD_x = s_minus_z * s_dx.differentiate('x')\n",
    "pD_y = s_minus_z * s_dy.differentiate('y')\n",
    "\n",
    "pE_x = s_minus_z * (n-1) * (s_dx)**2 * abs_grad_s**(-1) * abs_grad_s.differentiate('x') # TODO: Is it abs_grad_s.differentiate(x) or s_dx.differentiate(x) ?\n",
    "pE_y = s_minus_z * (n-1) * (s_dy)**2 * abs_grad_s**(-1) * abs_grad_s.differentiate('y')\n",
    "\n",
    "du_dx = pA_x + pB * (pC_x + pD_x + pE_x)\n",
    "dv_dy = pA_y + pB * (pC_y + pD_y + pE_y)\n",
    "dw_dz_at_depth = -1 * (du_dx + dv_dy)"
   ]
  },
  {
   "cell_type": "code",
   "execution_count": null,
   "metadata": {},
   "outputs": [],
   "source": [
    "plot_on_map(dw_dz_at_depth, clim=(-1e-3, 1e-3))"
   ]
  },
  {
   "cell_type": "code",
   "execution_count": null,
   "metadata": {},
   "outputs": [],
   "source": [
    "plot_on_map(du_dz_at_depth, clim=(-1e-3, 1e-3))"
   ]
  },
  {
   "cell_type": "code",
   "execution_count": null,
   "metadata": {},
   "outputs": [],
   "source": [
    "plot_on_map(np.abs(du_dz_at_depth / dw_dz_at_depth), clim=(0, 10))"
   ]
  },
  {
   "cell_type": "code",
   "execution_count": null,
   "metadata": {},
   "outputs": [],
   "source": [
    "max_layer_slope = np.arctan(np.abs(dw_dz_at_depth) * 0.1 / np.abs(du_along_flow_dz))\n",
    "plot_on_map(max_layer_slope * (180 / np.pi), clim=(0, 0.2))"
   ]
  },
  {
   "cell_type": "code",
   "execution_count": null,
   "metadata": {},
   "outputs": [],
   "source": [
    "plot_on_map(np.arctan(tan_layer_slope), clim=(0, 0.2))"
   ]
  },
  {
   "cell_type": "code",
   "execution_count": null,
   "metadata": {},
   "outputs": [],
   "source": [
    "#age_model"
   ]
  },
  {
   "cell_type": "code",
   "execution_count": null,
   "metadata": {},
   "outputs": [],
   "source": [
    "age_model['age_iso'].loc[{'original_isochrones': 2}].to_numpy()"
   ]
  },
  {
   "cell_type": "code",
   "execution_count": null,
   "metadata": {},
   "outputs": [],
   "source": [
    "plot_on_map(age_model['depth_iso'].loc[{'original_isochrones': 0}], clim=(0, 3000))"
   ]
  },
  {
   "cell_type": "code",
   "execution_count": null,
   "metadata": {},
   "outputs": [],
   "source": [
    "sel_layer = age_model['depth_iso'].loc[{'original_isochrones': 0}]\n",
    "layer_dx = sel_layer.differentiate('x')\n",
    "layer_dy = sel_layer.differentiate('y')\n",
    "\n",
    "tan_layer_slope = (np.sqrt(layer_dx**2+layer_dy**2)).interp(x=us_filt['x'], y=us_filt['y'])\n",
    "\n",
    "plot_on_map(tan_layer_slope, clim=(0, 0.05))"
   ]
  },
  {
   "cell_type": "code",
   "execution_count": null,
   "metadata": {},
   "outputs": [],
   "source": [
    "du_along_flow_dz = np.sqrt(du_dz_at_depth**2 + dv_dz_at_depth**2)\n",
    "layer_signal = np.abs(tan_layer_slope * du_along_flow_dz)\n",
    "vertical_strain_rate_signal = np.abs(dw_dz_at_depth)\n",
    "\n",
    "plot_on_map(layer_signal / (layer_signal + vertical_strain_rate_signal), clim=(0, 1), frame_height=500)"
   ]
  },
  {
   "cell_type": "code",
   "execution_count": null,
   "metadata": {},
   "outputs": [],
   "source": []
  },
  {
   "cell_type": "code",
   "execution_count": null,
   "metadata": {},
   "outputs": [],
   "source": [
    "layer_elevation_filt.differentiate(\"x\")"
   ]
  },
  {
   "cell_type": "code",
   "execution_count": null,
   "metadata": {},
   "outputs": [],
   "source": [
    "flow_angle_at_depth = np.arctan2(v_at_depth, u_at_depth)\n",
    "flow_angle_at_surface = np.arctan2(vs_filt, us_filt)\n",
    "plot_on_map(flow_angle_at_depth - flow_angle_at_surface, clim=(-np.pi, np.pi))"
   ]
  },
  {
   "cell_type": "code",
   "execution_count": null,
   "metadata": {},
   "outputs": [],
   "source": [
    "surf_vel_mag = np.sqrt(us_filt**2 + vs_filt**2)\n",
    "vel_at_depth_mag = np.sqrt(u_at_depth**2 + v_at_depth**2)\n",
    "plot_on_map(surf_vel_mag - vel_at_depth_mag, clim=(-2,2), frame_height=500)\n",
    "#plot_on_map(u_at_depth_diff, clim=(-2,2), frame_height=500)"
   ]
  },
  {
   "cell_type": "code",
   "execution_count": null,
   "metadata": {},
   "outputs": [],
   "source": [
    "vel_mag_diff = (surf_vel_mag - vel_at_depth_mag)\n",
    "\n",
    "bin_edges = np.arange(-2, 10.1, 0.1)\n",
    "p = vel_mag_diff.plot.hist(bins=bin_edges, xlim=(-5, 10))\n",
    "plt.show()\n"
   ]
  },
  {
   "cell_type": "code",
   "execution_count": null,
   "metadata": {},
   "outputs": [],
   "source": [
    "plot_on_map(abs_grad_h * 1000, frame_height=500, clim=(-10, 10))"
   ]
  },
  {
   "cell_type": "code",
   "execution_count": null,
   "metadata": {},
   "outputs": [],
   "source": [
    "plot_on_map(np.abs(us_filt) - np.abs(u_at_depth), height=500, clim=(-1, 1))"
   ]
  },
  {
   "cell_type": "code",
   "execution_count": null,
   "metadata": {},
   "outputs": [],
   "source": [
    "plot_on_map(us_filt, height=500, clim=(-100, 100))"
   ]
  },
  {
   "cell_type": "code",
   "execution_count": null,
   "metadata": {},
   "outputs": [],
   "source": []
  },
  {
   "cell_type": "code",
   "execution_count": null,
   "metadata": {},
   "outputs": [],
   "source": [
    "us_filt.interp(x=-1.067e5, y=-2.267e6)"
   ]
  },
  {
   "cell_type": "code",
   "execution_count": null,
   "metadata": {},
   "outputs": [],
   "source": [
    "[sia_u(-1.067e5, -2.267e6, z=z) for z in np.arange(0, 1000, 100)]"
   ]
  },
  {
   "cell_type": "code",
   "execution_count": null,
   "metadata": {},
   "outputs": [],
   "source": [
    "A"
   ]
  },
  {
   "cell_type": "code",
   "execution_count": null,
   "metadata": {},
   "outputs": [],
   "source": [
    "rho=918.0\n",
    "g=9.8\n",
    "n=3\n",
    "x = -1.067e5\n",
    "y = -2.267e6\n",
    "#z = h.interp(x=x, y=y)\n",
    "#2 * (rho * g)**n * abs_grad_h.interp(x=x, y=y)**(n-1) * h_dx.interp(x=x, y=y) * (A*60*60*365) * (h.interp(x=x,y=y) - z)**(n+1) / (n+1)"
   ]
  },
  {
   "cell_type": "code",
   "execution_count": null,
   "metadata": {},
   "outputs": [],
   "source": [
    "plot_on_map(us_filt, height=500)"
   ]
  },
  {
   "cell_type": "code",
   "execution_count": null,
   "metadata": {},
   "outputs": [],
   "source": [
    "def plot_on_map(da, **kwargs):\n",
    "    if 'cmap' not in kwargs:\n",
    "        if da.min() >= 0:\n",
    "            kwargs['cmap'] = 'OrRd'\n",
    "        else:\n",
    "            kwargs['cmap'] = 'RdBu_r'\n",
    "            if 'clim' not in kwargs:\n",
    "                abs_max = float((np.abs(da)).max())\n",
    "                kwargs['clim'] = (-abs_max, abs_max)\n",
    "\n",
    "    plot = da.hvplot.image(x='x', y='y', geo=True, rasterize=True, crs=crs_3413, **kwargs)\n",
    "    plot = plot * gv.feature.coastline()\n",
    "    return plot\n",
    "\n",
    "plot_on_map(h, height=500, title='Ice Thickness [m]')"
   ]
  },
  {
   "cell_type": "code",
   "execution_count": null,
   "metadata": {},
   "outputs": [],
   "source": []
  }
 ],
 "metadata": {
  "kernelspec": {
   "display_name": "Python 3",
   "language": "python",
   "name": "python3"
  },
  "language_info": {
   "codemirror_mode": {
    "name": "ipython",
    "version": 3
   },
   "file_extension": ".py",
   "mimetype": "text/x-python",
   "name": "python",
   "nbconvert_exporter": "python",
   "pygments_lexer": "ipython3",
   "version": "3.11.3"
  }
 },
 "nbformat": 4,
 "nbformat_minor": 2
}
