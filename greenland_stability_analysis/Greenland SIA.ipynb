{
 "cells": [
  {
   "cell_type": "code",
   "execution_count": null,
   "metadata": {},
   "outputs": [],
   "source": [
    "import xarray as xr\n",
    "import numpy as np\n",
    "import rioxarray\n",
    "import h5netcdf\n",
    "import h5py\n",
    "import netCDF4\n",
    "import scipy.ndimage\n",
    "\n",
    "import hvplot.xarray\n",
    "import geoviews as gv\n",
    "\n",
    "import cartopy.crs as ccrs\n",
    "import matplotlib.pyplot as plt\n",
    "import matplotlib as mpl"
   ]
  },
  {
   "cell_type": "code",
   "execution_count": null,
   "metadata": {},
   "outputs": [],
   "source": [
    "surface_velocity = xr.open_dataset('data/GRE_G0120_0000.nc')\n",
    "surface_velocity_spacing_m = np.abs(np.median(np.diff(surface_velocity['x'])))\n",
    "assert(np.abs(np.max(np.diff(surface_velocity['x']))) == surface_velocity_spacing_m)\n",
    "assert(np.abs(np.min(np.diff(surface_velocity['x']))) == surface_velocity_spacing_m)\n",
    "assert(np.abs(np.max(np.diff(surface_velocity['y']))) == surface_velocity_spacing_m) # TODO fix these\n",
    "assert(np.abs(np.min(np.diff(surface_velocity['y']))) == surface_velocity_spacing_m)\n",
    "\n",
    "age_model = xr.open_dataset('data/RRRAG4_Greenland_1993_2013_01_age_grid.nc',\n",
    "                               engine='h5netcdf').rename(\n",
    "                                   {'number of grid points in x-direction': 'x', 'number of grid points in y-direction': 'y', 'number of vertical layers': 'layers', 'number of isochrones': 'original_isochrones',\n",
    "                                    'x': 'x_km', 'y': 'y_km'}\n",
    "                                   )\n",
    "# Convert km to meters for consistency\n",
    "age_model = age_model.assign_coords({'x':age_model.x_km[:,0]*1000, 'y':age_model.y_km[0,:]*1000})\n",
    "\n",
    "bedmachine = xr.open_dataset('data/BedMachineGreenland-v5.nc')\n",
    "h = bedmachine['thickness'].interp(x=surface_velocity['x'], y=surface_velocity['y'])\n",
    "\n",
    "bedmachine_spacing_m = np.abs(np.median(np.diff(bedmachine['x'])))\n",
    "assert(np.abs(np.max(np.diff(bedmachine['x']))) == bedmachine_spacing_m)\n",
    "assert(np.abs(np.min(np.diff(bedmachine['x']))) == bedmachine_spacing_m)\n",
    "assert(np.abs(np.max(np.diff(bedmachine['y']))) == bedmachine_spacing_m)\n",
    "assert(np.abs(np.min(np.diff(bedmachine['y']))) == bedmachine_spacing_m)"
   ]
  },
  {
   "cell_type": "code",
   "execution_count": null,
   "metadata": {},
   "outputs": [],
   "source": [
    "crs_3413 = ccrs.Stereographic(central_latitude=90, central_longitude=-45, true_scale_latitude=70)\n",
    "\n",
    "def plot_on_map(da, **kwargs):\n",
    "    if 'cmap' not in kwargs:\n",
    "        if da.min() >= 0:\n",
    "            kwargs['cmap'] = 'OrRd'\n",
    "        else:\n",
    "            kwargs['cmap'] = 'RdBu_r'\n",
    "            if 'clim' not in kwargs:\n",
    "                abs_max = float((np.abs(da)).max())\n",
    "                kwargs['clim'] = (-abs_max, abs_max)\n",
    "\n",
    "    plot = da.hvplot.image(x='x', y='y', geo=True, rasterize=True, crs=crs_3413, **kwargs)\n",
    "    plot = plot * gv.feature.coastline()\n",
    "    return plot"
   ]
  },
  {
   "cell_type": "code",
   "execution_count": null,
   "metadata": {},
   "outputs": [],
   "source": [
    "smoothing_kernel_std = 5000 # m\n",
    "\n",
    "us_filt = xr.apply_ufunc(scipy.ndimage.gaussian_filter, surface_velocity['vx'], kwargs={'sigma': smoothing_kernel_std / surface_velocity_spacing_m})\n",
    "vs_filt = xr.apply_ufunc(scipy.ndimage.gaussian_filter, surface_velocity['vx'], kwargs={'sigma': smoothing_kernel_std / surface_velocity_spacing_m})\n",
    "h_filt = xr.apply_ufunc(scipy.ndimage.gaussian_filter, h, kwargs={'sigma': smoothing_kernel_std / surface_velocity_spacing_m})"
   ]
  },
  {
   "cell_type": "code",
   "execution_count": null,
   "metadata": {},
   "outputs": [],
   "source": [
    "h_dx = h.differentiate('x')\n",
    "h_dy = h.differentiate('y')\n",
    "abs_grad_h = np.sqrt(h_dx**2 + h_dy**2)\n",
    "\n",
    "rho=918.0\n",
    "g=9.8\n",
    "n=3\n",
    "A0 = 3.985e-13 # s^-1 Pa^-3\n",
    "Q = 60.0e3 # J mol^-1\n",
    "R = 8.314 # J mol^-1 K^-1\n",
    "T_rel_p = 273.15 - 20\n",
    "A = A0 * np.exp(-Q/(R * T_rel_p)) * (365*60*60) # convert s^-1 to yr^-1\n",
    "\n",
    "# def sia_u(x, y, z, rho=918.0, g=9.8, n=3, A=A):\n",
    "#     us = us_filt.interp(x=x, y=y)\n",
    "#     u_diff_from_surf = 2 * (rho * g)**n * abs_grad_h.interp(x=x, y=y)**(n-1) * h_dx.interp(x=x, y=y) * A * (h.interp(x=x,y=y) - z)**(n+1) / (n+1)\n",
    "#     return us + u_diff_from_surf\n"
   ]
  },
  {
   "cell_type": "code",
   "execution_count": null,
   "metadata": {},
   "outputs": [],
   "source": [
    "u_at_depth = us_filt + (2 * (rho * g)**n * abs_grad_h**(n-1) * h_dx * A * (h * 0.5)**(n+1) / (n+1))\n",
    "v_at_depth = vs_filt + (2 * (rho * g)**n * abs_grad_h**(n-1) * h_dy * A * (h * 0.5)**(n+1) / (n+1))"
   ]
  },
  {
   "cell_type": "code",
   "execution_count": null,
   "metadata": {},
   "outputs": [],
   "source": [
    "surf_vel_mag = np.sqrt(us_filt**2 + vs_filt**2)\n",
    "vel_at_depth_mag = np.sqrt(u_at_depth**2 + v_at_depth**2)\n",
    "plot_on_map(surf_vel_mag - vel_at_depth_mag, clim=(-1,1), height=500)"
   ]
  },
  {
   "cell_type": "code",
   "execution_count": null,
   "metadata": {},
   "outputs": [],
   "source": [
    "plot_on_map(h_dx * 1000, height=500, clim=(-10, 10))"
   ]
  },
  {
   "cell_type": "code",
   "execution_count": null,
   "metadata": {},
   "outputs": [],
   "source": [
    "plot_on_map(np.abs(us_filt) - np.abs(u_at_depth), height=500, clim=(-1, 1))"
   ]
  },
  {
   "cell_type": "code",
   "execution_count": null,
   "metadata": {},
   "outputs": [],
   "source": [
    "plot_on_map(us_filt, height=500, clim=(-100, 100))"
   ]
  },
  {
   "cell_type": "code",
   "execution_count": null,
   "metadata": {},
   "outputs": [],
   "source": []
  },
  {
   "cell_type": "code",
   "execution_count": null,
   "metadata": {},
   "outputs": [],
   "source": [
    "us_filt.interp(x=-1.067e5, y=-2.267e6)"
   ]
  },
  {
   "cell_type": "code",
   "execution_count": null,
   "metadata": {},
   "outputs": [],
   "source": [
    "[sia_u(-1.067e5, -2.267e6, z=z) for z in np.arange(0, 1000, 100)]"
   ]
  },
  {
   "cell_type": "code",
   "execution_count": null,
   "metadata": {},
   "outputs": [],
   "source": [
    "A"
   ]
  },
  {
   "cell_type": "code",
   "execution_count": null,
   "metadata": {},
   "outputs": [],
   "source": [
    "rho=918.0\n",
    "g=9.8\n",
    "n=3\n",
    "x = -1.067e5\n",
    "y = -2.267e6\n",
    "#z = h.interp(x=x, y=y)\n",
    "#2 * (rho * g)**n * abs_grad_h.interp(x=x, y=y)**(n-1) * h_dx.interp(x=x, y=y) * (A*60*60*365) * (h.interp(x=x,y=y) - z)**(n+1) / (n+1)"
   ]
  },
  {
   "cell_type": "code",
   "execution_count": null,
   "metadata": {},
   "outputs": [],
   "source": [
    "plot_on_map(us_filt, height=500)"
   ]
  },
  {
   "cell_type": "code",
   "execution_count": null,
   "metadata": {},
   "outputs": [],
   "source": [
    "def plot_on_map(da, **kwargs):\n",
    "    if 'cmap' not in kwargs:\n",
    "        if da.min() >= 0:\n",
    "            kwargs['cmap'] = 'OrRd'\n",
    "        else:\n",
    "            kwargs['cmap'] = 'RdBu_r'\n",
    "            if 'clim' not in kwargs:\n",
    "                abs_max = float((np.abs(da)).max())\n",
    "                kwargs['clim'] = (-abs_max, abs_max)\n",
    "\n",
    "    plot = da.hvplot.image(x='x', y='y', geo=True, rasterize=True, crs=crs_3413, **kwargs)\n",
    "    plot = plot * gv.feature.coastline()\n",
    "    return plot\n",
    "\n",
    "plot_on_map(h, height=500, title='Ice Thickness [m]')"
   ]
  },
  {
   "cell_type": "code",
   "execution_count": null,
   "metadata": {},
   "outputs": [],
   "source": []
  }
 ],
 "metadata": {
  "kernelspec": {
   "display_name": "rg2",
   "language": "python",
   "name": "python3"
  },
  "language_info": {
   "codemirror_mode": {
    "name": "ipython",
    "version": 3
   },
   "file_extension": ".py",
   "mimetype": "text/x-python",
   "name": "python",
   "nbconvert_exporter": "python",
   "pygments_lexer": "ipython3",
   "version": "3.11.3"
  }
 },
 "nbformat": 4,
 "nbformat_minor": 2
}
